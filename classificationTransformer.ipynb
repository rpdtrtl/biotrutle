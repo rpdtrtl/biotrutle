{
 "cells": [
  {
   "cell_type": "code",
   "execution_count": 8,
   "metadata": {},
   "outputs": [],
   "source": [
    "import torch\n",
    "import torch.nn as nn\n",
    "from torch.nn import functional as F"
   ]
  },
  {
   "cell_type": "code",
   "execution_count": 9,
   "metadata": {},
   "outputs": [],
   "source": [
    "#hyperparameters"
   ]
  },
  {
   "cell_type": "code",
   "execution_count": 10,
   "metadata": {},
   "outputs": [
    {
     "data": {
      "text/plain": [
       "<torch._C.Generator at 0x28960cf4210>"
      ]
     },
     "execution_count": 10,
     "metadata": {},
     "output_type": "execute_result"
    }
   ],
   "source": [
    "torch.manual_seed(1337)"
   ]
  },
  {
   "cell_type": "code",
   "execution_count": 45,
   "metadata": {},
   "outputs": [],
   "source": [
    "def parse_fasta_file(input_file):\n",
    "    parsed_seqs = {}\n",
    "    curr_seq_id = None\n",
    "    curr_seq = []\n",
    "\n",
    "    for line in f:\n",
    "        line = line.strip()\n",
    "\n",
    "        if line.startswith(\">\"):\n",
    "            if curr_seq_id is not None:\n",
    "                parsed_seqs[curr_seq_id] = ''.join(curr_seq)\n",
    "\n",
    "            curr_seq_id = line[1:]\n",
    "            curr_seq = []\n",
    "            continue\n",
    "\n",
    "        curr_seq.append(line)\n",
    "\n",
    "    parsed_seqs[curr_seq_id] = ''.join(curr_seq)\n",
    "    return parsed_seqs\n",
    "\n",
    "input_file = './human.fasta'\n",
    "\n",
    "f = open(input_file)\n",
    "parsed_seqs = parse_fasta_file(input_file)\n"
   ]
  },
  {
   "cell_type": "code",
   "execution_count": 47,
   "metadata": {},
   "outputs": [],
   "source": [
    "output_filepath = 'parsed_seqs.txt'\n",
    "output_file = open(output_filepath,'w+')\n",
    "\n",
    "for seq_id,seq in parsed_seqs.items():    \n",
    "    output_line = \" : \".join([seq_id,seq])+\"\\n\"\n",
    "    output_file.write(output_line)"
   ]
  },
  {
   "cell_type": "code",
   "execution_count": 48,
   "metadata": {},
   "outputs": [
    {
     "data": {
      "text/plain": [
       "34879"
      ]
     },
     "execution_count": 48,
     "metadata": {},
     "output_type": "execute_result"
    }
   ],
   "source": [
    "output_filepath = 'example_seqs.txt'\n",
    "output_file = open(output_filepath,'w+')\n",
    "\n",
    "first_hundred = list(parsed_seqs.items())[:50]\n",
    "\n",
    "output_file.write('\\n'.join('%s %s' % x for x in first_hundred))"
   ]
  },
  {
   "cell_type": "code",
   "execution_count": 49,
   "metadata": {},
   "outputs": [],
   "source": [
    "tokens = {\n",
    "    \"A\" : 3,\n",
    "    \"C\" : 4,\n",
    "    \"D\" : 5,\n",
    "    \"E\" : 6,\n",
    "    \"F\" : 7,\n",
    "    \"G\" : 8,\n",
    "    \"H\" : 9,\n",
    "    \"I\" : 10,\n",
    "    \"K\" : 11,\n",
    "    \"L\" : 12,\n",
    "    \"M\" : 13,\n",
    "    \"N\" : 14,\n",
    "    \"P\" : 15,\n",
    "    \"Q\" : 16,\n",
    "    \"R\" : 17,\n",
    "    \"S\" : 18,\n",
    "    \"T\" : 19,\n",
    "    \"V\" : 20,\n",
    "    \"W\" : 21,\n",
    "    \"Y\" : 22,\n",
    "    \"X\" : 23,\n",
    "    \"start_character\" : 1,\n",
    "    \"pad_character\" : 0,\n",
    "    \"end_character\" : 2,\n",
    "}"
   ]
  },
  {
   "cell_type": "markdown",
   "metadata": {},
   "source": [
    "A 3\n",
    "C 4\n",
    "D 5 \n",
    "E 6\n",
    "F 7\n",
    "G 8\n",
    "H 9\n",
    "I 10\n",
    "K 11\n",
    "L 12\n",
    "M 13\n",
    "N 14\n",
    "P 15\n",
    "Q 16\n",
    "R 17\n",
    "S 18\n",
    "T 19\n",
    "V 20\n",
    "W 21\n",
    "Y 22\n",
    "X 23\n",
    "start_character 1\n",
    "pad_character 0\n",
    "end_character 2"
   ]
  },
  {
   "cell_type": "code",
   "execution_count": null,
   "metadata": {},
   "outputs": [],
   "source": []
  }
 ],
 "metadata": {
  "kernelspec": {
   "display_name": "biobio",
   "language": "python",
   "name": "python3"
  },
  "language_info": {
   "codemirror_mode": {
    "name": "ipython",
    "version": 3
   },
   "file_extension": ".py",
   "mimetype": "text/x-python",
   "name": "python",
   "nbconvert_exporter": "python",
   "pygments_lexer": "ipython3",
   "version": "3.11.8"
  }
 },
 "nbformat": 4,
 "nbformat_minor": 2
}
