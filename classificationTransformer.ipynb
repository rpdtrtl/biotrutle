{
 "cells": [
  {
   "cell_type": "code",
   "execution_count": 29,
   "metadata": {},
   "outputs": [],
   "source": [
    "import torch\n",
    "import torch.nn as nn\n",
    "from torch.nn import functional as F\n",
    "from extra import *"
   ]
  },
  {
   "cell_type": "code",
   "execution_count": 30,
   "metadata": {},
   "outputs": [],
   "source": [
    "#hyperparameters"
   ]
  },
  {
   "cell_type": "code",
   "execution_count": 31,
   "metadata": {},
   "outputs": [
    {
     "data": {
      "text/plain": [
       "<torch._C.Generator at 0x1907df36f90>"
      ]
     },
     "execution_count": 31,
     "metadata": {},
     "output_type": "execute_result"
    }
   ],
   "source": [
    "torch.manual_seed(1337)"
   ]
  },
  {
   "cell_type": "code",
   "execution_count": 32,
   "metadata": {},
   "outputs": [],
   "source": [
    "input_file = './human.fasta'\n",
    "\n",
    "f = open(input_file)\n",
    "parsed_seqs = parse_fasta_file(f)\n"
   ]
  },
  {
   "cell_type": "code",
   "execution_count": 33,
   "metadata": {},
   "outputs": [],
   "source": [
    "output_filepath = 'parsed_seqs.txt'\n",
    "output_file = open(output_filepath,'w+')\n",
    "\n",
    "for seq_id,seq in parsed_seqs.items():    \n",
    "    output_line = \" : \".join([seq_id,seq])+\"\\n\"\n",
    "    output_file.write(output_line)"
   ]
  },
  {
   "cell_type": "code",
   "execution_count": 34,
   "metadata": {},
   "outputs": [
    {
     "data": {
      "text/plain": [
       "34879"
      ]
     },
     "execution_count": 34,
     "metadata": {},
     "output_type": "execute_result"
    }
   ],
   "source": [
    "output_filepath = 'example_seqs.txt'\n",
    "output_file = open(output_filepath,'w+')\n",
    "\n",
    "first_hundred = list(parsed_seqs.items())[:50]\n",
    "\n",
    "output_file.write('\\n'.join('%s %s' % x for x in first_hundred))"
   ]
  },
  {
   "cell_type": "markdown",
   "metadata": {},
   "source": [
    "|Amino Acid                  |3 letter|1 letter|\n",
    "|----------------------------|--------|-|\n",
    "|alanine                     |ala     |A|\n",
    "|arginine                    |arg     |R|\n",
    "|asparagine                  |asn     |N|\n",
    "|aspartic acid               |asp     |D\n",
    "|cysteine                    |cys     |C\n",
    "|glutamine                   |gln     |Q \n",
    "|glutamic acid               |glu     |E\n",
    "|glycine                     |gly     |G\n",
    "|histidine                   |his     |H\n",
    "|isoleucine                  |ile     |I\n",
    "|leucine                     |leu     |L\n",
    "|lysine                      |lys     |K\n",
    "|methionine                  |met     |M\n",
    "|phenylalanine               |phe     |F \n",
    "|proline                     |pro     |P\n",
    "|serine                      |ser     |S \n",
    "|threonine                   |thr     |T\n",
    "|tryptophan                  |trp     |W \n",
    "|tyrosine                    |tyr     |Y \n",
    "|valine                      |val     |V\n",
    "|asparagine/aspartic acid    |asx     |B   - not included/classified as Other\n",
    "|glutamine/glutamic acid     |glx     |Z   - not included/classified as Other\n",
    "|selenocysteine              |sec     |U\n",
    "|unidentified aa             |        |X"
   ]
  },
  {
   "cell_type": "code",
   "execution_count": null,
   "metadata": {},
   "outputs": [],
   "source": []
  }
 ],
 "metadata": {
  "kernelspec": {
   "display_name": "biobio",
   "language": "python",
   "name": "python3"
  },
  "language_info": {
   "codemirror_mode": {
    "name": "ipython",
    "version": 3
   },
   "file_extension": ".py",
   "mimetype": "text/x-python",
   "name": "python",
   "nbconvert_exporter": "python",
   "pygments_lexer": "ipython3",
   "version": "3.11.8"
  }
 },
 "nbformat": 4,
 "nbformat_minor": 2
}
